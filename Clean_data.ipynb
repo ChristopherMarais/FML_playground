{
 "cells": [
  {
   "cell_type": "code",
   "execution_count": 1,
   "id": "4787d14b-a20c-4556-9f32-eafd40fb2a78",
   "metadata": {
    "tags": []
   },
   "outputs": [],
   "source": [
    "import os\n",
    "import numpy as np\n",
    "import numpy.random as npr\n",
    "from PIL import Image\n",
    "import matplotlib.pyplot as plt"
   ]
  },
  {
   "cell_type": "code",
   "execution_count": 2,
   "id": "da4b15a1-41c2-4d18-b7da-9caefd109c12",
   "metadata": {
    "tags": []
   },
   "outputs": [],
   "source": [
    "# Get current working directory\n",
    "wd = os.getcwd()"
   ]
  },
  {
   "cell_type": "code",
   "execution_count": 3,
   "id": "ddfc5a11-674e-47d6-96ca-62b0a8225d92",
   "metadata": {
    "tags": []
   },
   "outputs": [],
   "source": [
    "# Loading Data\n",
    "labels_names = ['Stop','Yield','Red_Light','Green_Light','Roundabout','Right_Turn_Only',\n",
    "                'Do_Not_Enter','Crosswalk','Handicap_Parking','No_Parking']\n",
    "\n",
    "data_train = np.load('data_train.npy')\n",
    "labels_train = np.load('labels_train.npy')\n",
    "\n",
    "# reshape the data\n",
    "reshaped_data_ar = data_train.reshape((300,300,3,6195))"
   ]
  },
  {
   "cell_type": "markdown",
   "id": "0c202727-a563-41bd-a2c4-91d6a51aafd8",
   "metadata": {},
   "source": [
    "##### Convert numpy arrays to images and save to disk"
   ]
  },
  {
   "cell_type": "code",
   "execution_count": null,
   "id": "b630733b-83bf-4bf3-a59a-9f63afee195d",
   "metadata": {
    "execution": {
     "iopub.execute_input": "2022-07-12T03:25:31.858729Z",
     "iopub.status.busy": "2022-07-12T03:25:31.858228Z"
    },
    "tags": []
   },
   "outputs": [],
   "source": [
    "# save data as png images on disk\n",
    "for class_idx in range(0,10):\n",
    "    label_idx_ar = np.where(labels_train==class_idx)[0]\n",
    "    for label_idx in label_idx_ar:\n",
    "        im = Image.fromarray(reshaped_data_ar[:,:,:,label_idx], mode='RGB')\n",
    "        class_dir = wd+'/Training_data/'+labels_names[class_idx]+'/'\n",
    "        if not os.path.exists(class_dir):\n",
    "            os.makedirs(class_dir)\n",
    "        im.save(class_dir+str(label_idx)+\".png\")"
   ]
  },
  {
   "cell_type": "markdown",
   "id": "2d049344-fcd9-4aa2-8bde-ceb54813a8b1",
   "metadata": {},
   "source": [
    "##### manually move images to correct class directories"
   ]
  },
  {
   "cell_type": "markdown",
   "id": "aa04a0b1-d121-4dc9-9d4f-eb6f323942dc",
   "metadata": {},
   "source": [
    "##### Convert images to numpy labelled data again"
   ]
  },
  {
   "cell_type": "code",
   "execution_count": 5,
   "id": "bc8ea5a7-705e-4ce9-a2a9-277156bce6e8",
   "metadata": {
    "tags": []
   },
   "outputs": [
    {
     "name": "stdout",
     "output_type": "stream",
     "text": [
      "-------------------------------------------------------\n",
      "----------------------DONE-----------------------------\n",
      "-------------------------------------------------------\n",
      "There are  6195  images\n",
      "There are  6195  labels\n"
     ]
    }
   ],
   "source": [
    "mydir = wd+'\\Training_data_correct_class\\\\'\n",
    "labels = np.array([])\n",
    "\n",
    "i=0\n",
    "for label_dir in os.listdir(mydir):\n",
    "    for file in os.listdir(mydir+label_dir):\n",
    "\n",
    "        # Will only read .jpg files (you can change this to other formats)\n",
    "        # You may add more readable format with e.g.\n",
    "    #     if file.endswith('.jpg') or file.endswith('.jepg') or file.endswith('.png'):\n",
    "        if file.endswith(\".png\"):\n",
    "            filename = mydir+label_dir+'/'+file\n",
    "            # Loads image and resizes it to a 300x300x3 RGB image\n",
    "            y = np.array(Image.open(filename).convert('RGB').resize((300,300)))\n",
    "\n",
    "            # Resizes 300x300x3 image to 270,000x1 array\n",
    "            col_y = y.ravel()[:,np.newaxis]\n",
    "\n",
    "            # Saves\n",
    "            if i==0:\n",
    "                data = col_y\n",
    "            else:\n",
    "                data = np.hstack((data, col_y))\n",
    "\n",
    "            # Creates labels from filename\n",
    "            #Find location of label\n",
    "            labels = np.hstack((labels, label_dir))\n",
    "\n",
    "            i+=1\n",
    "\n",
    "print('-------------------------------------------------------')\n",
    "print('----------------------DONE-----------------------------')\n",
    "print('-------------------------------------------------------')\n",
    "print('There are ', data.shape[1],' images')\n",
    "print('There are ', labels.shape[0],' labels')\n",
    "\n",
    "# rename labels to numbers\n",
    "for i in range(0,len(labels_names)):\n",
    "    labels[np.where(labels==labels_names[i])]=i\n",
    "\n",
    "# Saves the files to your current directory\n",
    "np.save('clean_data', data)\n",
    "np.save('clean_labels', labels)"
   ]
  },
  {
   "cell_type": "code",
   "execution_count": null,
   "id": "9f877503-2882-4f68-bbd0-68bada947ab3",
   "metadata": {},
   "outputs": [],
   "source": []
  }
 ],
 "metadata": {
  "kernelspec": {
   "display_name": "Python 3 (ipykernel)",
   "language": "python",
   "name": "python3"
  },
  "language_info": {
   "codemirror_mode": {
    "name": "ipython",
    "version": 3
   },
   "file_extension": ".py",
   "mimetype": "text/x-python",
   "name": "python",
   "nbconvert_exporter": "python",
   "pygments_lexer": "ipython3",
   "version": "3.10.4"
  }
 },
 "nbformat": 4,
 "nbformat_minor": 5
}
