{
 "cells": [
  {
   "cell_type": "code",
   "execution_count": 1,
   "id": "3dfb95ba-f466-4fef-9fc3-f1d27f855b47",
   "metadata": {
    "execution": {
     "iopub.execute_input": "2022-07-11T21:51:43.832537Z",
     "iopub.status.busy": "2022-07-11T21:51:43.832036Z",
     "iopub.status.idle": "2022-07-11T21:51:43.854537Z",
     "shell.execute_reply": "2022-07-11T21:51:43.853537Z",
     "shell.execute_reply.started": "2022-07-11T21:51:43.832537Z"
    },
    "tags": []
   },
   "outputs": [],
   "source": [
    "from bing_image_downloader import downloader\n",
    "from pathlib import Path"
   ]
  },
  {
   "cell_type": "code",
   "execution_count": 2,
   "id": "20d6ae59-8fff-4454-bc51-fe26ba0b5fa4",
   "metadata": {
    "execution": {
     "iopub.execute_input": "2022-07-11T21:51:43.857038Z",
     "iopub.status.busy": "2022-07-11T21:51:43.856535Z",
     "iopub.status.idle": "2022-07-11T21:51:44.085210Z",
     "shell.execute_reply": "2022-07-11T21:51:44.084707Z",
     "shell.execute_reply.started": "2022-07-11T21:51:43.857038Z"
    },
    "tags": []
   },
   "outputs": [],
   "source": [
    "labels_names = ['Stop','Yield','Red Light','Green Light','Roundabout','Right Turn Only',\n",
    "                'Do Not Enter','Crosswalk','Handicap Parking','No Parking']"
   ]
  },
  {
   "cell_type": "code",
   "execution_count": 3,
   "id": "4ea9980e-098b-4fe4-bd81-29ba20e4aedd",
   "metadata": {
    "execution": {
     "iopub.execute_input": "2022-07-11T21:51:44.086708Z",
     "iopub.status.busy": "2022-07-11T21:51:44.086209Z",
     "iopub.status.idle": "2022-07-11T21:51:44.983004Z",
     "shell.execute_reply": "2022-07-11T21:51:44.982002Z",
     "shell.execute_reply.started": "2022-07-11T21:51:44.086708Z"
    },
    "tags": []
   },
   "outputs": [
    {
     "ename": "AttributeError",
     "evalue": "type object 'Path' has no attribute 'isdir'",
     "output_type": "error",
     "traceback": [
      "\u001b[1;31m---------------------------------------------------------------------------\u001b[0m",
      "\u001b[1;31mAttributeError\u001b[0m                            Traceback (most recent call last)",
      "Input \u001b[1;32mIn [3]\u001b[0m, in \u001b[0;36m<cell line: 1>\u001b[1;34m()\u001b[0m\n\u001b[1;32m----> 1\u001b[0m \u001b[43mdownloader\u001b[49m\u001b[38;5;241;43m.\u001b[39;49m\u001b[43mdownload\u001b[49m\u001b[43m(\u001b[49m\u001b[43mlabels_names\u001b[49m\u001b[43m[\u001b[49m\u001b[38;5;241;43m0\u001b[39;49m\u001b[43m]\u001b[49m\u001b[38;5;241;43m+\u001b[39;49m\u001b[38;5;124;43m'\u001b[39;49m\u001b[38;5;124;43m sign road sign traffic United States\u001b[39;49m\u001b[38;5;124;43m'\u001b[39;49m\u001b[43m,\u001b[49m\u001b[43m \u001b[49m\n\u001b[0;32m      2\u001b[0m \u001b[43m                    \u001b[49m\u001b[43mlimit\u001b[49m\u001b[38;5;241;43m=\u001b[39;49m\u001b[38;5;241;43m100\u001b[39;49m\u001b[43m,\u001b[49m\u001b[43m  \u001b[49m\n\u001b[0;32m      3\u001b[0m \u001b[43m                    \u001b[49m\u001b[43moutput_dir\u001b[49m\u001b[38;5;241;43m=\u001b[39;49m\u001b[38;5;124;43mr\u001b[39;49m\u001b[38;5;124;43m'\u001b[39;49m\u001b[38;5;124;43mC:\u001b[39;49m\u001b[38;5;124;43m\\\u001b[39;49m\u001b[38;5;124;43mUsers\u001b[39;49m\u001b[38;5;124;43m\\\u001b[39;49m\u001b[38;5;124;43mGCM\u001b[39;49m\u001b[38;5;124;43m\\\u001b[39;49m\u001b[38;5;124;43mDesktop\u001b[39;49m\u001b[38;5;124;43m\\\u001b[39;49m\u001b[38;5;124;43mGIT_REPOS\u001b[39;49m\u001b[38;5;124;43m\\\u001b[39;49m\u001b[38;5;124;43mFML_playground\u001b[39;49m\u001b[38;5;124;43m\\\u001b[39;49m\u001b[38;5;124;43mScraped_images\u001b[39;49m\u001b[38;5;124;43m\\\u001b[39;49m\u001b[38;5;124;43m0\u001b[39;49m\u001b[38;5;124;43m'\u001b[39;49m\u001b[43m,\u001b[49m\u001b[43m \u001b[49m\n\u001b[0;32m      4\u001b[0m \u001b[43m                    \u001b[49m\u001b[43madult_filter_off\u001b[49m\u001b[38;5;241;43m=\u001b[39;49m\u001b[38;5;28;43;01mFalse\u001b[39;49;00m\u001b[43m,\u001b[49m\u001b[43m \u001b[49m\n\u001b[0;32m      5\u001b[0m \u001b[43m                    \u001b[49m\u001b[43mforce_replace\u001b[49m\u001b[38;5;241;43m=\u001b[39;49m\u001b[38;5;28;43;01mTrue\u001b[39;49;00m\u001b[43m,\u001b[49m\u001b[43m \u001b[49m\n\u001b[0;32m      6\u001b[0m \u001b[43m                    \u001b[49m\u001b[43mtimeout\u001b[49m\u001b[38;5;241;43m=\u001b[39;49m\u001b[38;5;241;43m60\u001b[39;49m\u001b[43m,\u001b[49m\u001b[43m \u001b[49m\n\u001b[0;32m      7\u001b[0m \u001b[43m                    \u001b[49m\u001b[43mverbose\u001b[49m\u001b[38;5;241;43m=\u001b[39;49m\u001b[38;5;28;43;01mTrue\u001b[39;49;00m\u001b[43m)\u001b[49m\n",
      "File \u001b[1;32m~\\anaconda3\\envs\\FML\\lib\\site-packages\\bing_image_downloader\\downloader.py:24\u001b[0m, in \u001b[0;36mdownload\u001b[1;34m(query, limit, output_dir, adult_filter_off, force_replace, timeout, filter, verbose)\u001b[0m\n\u001b[0;32m     21\u001b[0m image_dir \u001b[38;5;241m=\u001b[39m Path(output_dir)\u001b[38;5;241m.\u001b[39mjoinpath(query)\u001b[38;5;241m.\u001b[39mabsolute()\n\u001b[0;32m     23\u001b[0m \u001b[38;5;28;01mif\u001b[39;00m force_replace:\n\u001b[1;32m---> 24\u001b[0m     \u001b[38;5;28;01mif\u001b[39;00m \u001b[43mPath\u001b[49m\u001b[38;5;241;43m.\u001b[39;49m\u001b[43misdir\u001b[49m(image_dir):\n\u001b[0;32m     25\u001b[0m         shutil\u001b[38;5;241m.\u001b[39mrmtree(image_dir)\n\u001b[0;32m     27\u001b[0m \u001b[38;5;66;03m# check directory and create if necessary\u001b[39;00m\n",
      "\u001b[1;31mAttributeError\u001b[0m: type object 'Path' has no attribute 'isdir'"
     ]
    }
   ],
   "source": [
    "downloader.download(labels_names[0]+' sign road sign traffic United States', \n",
    "                    limit=100,  \n",
    "                    output_dir=r'C:\\Users\\GCM\\Desktop\\GIT_REPOS\\FML_playground\\Scraped_images\\0', \n",
    "                    adult_filter_off=False, \n",
    "                    force_replace=True, \n",
    "                    timeout=60, \n",
    "                    verbose=True)"
   ]
  },
  {
   "cell_type": "code",
   "execution_count": null,
   "id": "d749baa4-2998-4066-90b9-42cf38ccc3a0",
   "metadata": {},
   "outputs": [],
   "source": []
  }
 ],
 "metadata": {
  "kernelspec": {
   "display_name": "Python 3 (ipykernel)",
   "language": "python",
   "name": "python3"
  },
  "language_info": {
   "codemirror_mode": {
    "name": "ipython",
    "version": 3
   },
   "file_extension": ".py",
   "mimetype": "text/x-python",
   "name": "python",
   "nbconvert_exporter": "python",
   "pygments_lexer": "ipython3",
   "version": "3.10.4"
  }
 },
 "nbformat": 4,
 "nbformat_minor": 5
}
