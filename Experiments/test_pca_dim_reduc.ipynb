{
 "cells": [
  {
   "cell_type": "code",
   "execution_count": 1,
   "id": "483aa309-f81d-49d4-b23f-3fc96ba9e7cd",
   "metadata": {
    "execution": {
     "iopub.execute_input": "2022-07-10T21:02:27.577857Z",
     "iopub.status.busy": "2022-07-10T21:02:27.575860Z",
     "iopub.status.idle": "2022-07-10T21:02:29.165349Z",
     "shell.execute_reply": "2022-07-10T21:02:29.164848Z",
     "shell.execute_reply.started": "2022-07-10T21:02:27.577857Z"
    },
    "tags": []
   },
   "outputs": [],
   "source": [
    "import numpy as np\n",
    "import pandas as pd\n",
    "from sklearn.ensemble import RandomForestClassifier\n",
    "from sklearn.model_selection import train_test_split\n",
    "from sklearn import preprocessing"
   ]
  },
  {
   "cell_type": "code",
   "execution_count": 2,
   "id": "9dd1cc90-7947-4609-bd5b-3a05d49373cb",
   "metadata": {
    "execution": {
     "iopub.execute_input": "2022-07-10T21:02:29.168349Z",
     "iopub.status.busy": "2022-07-10T21:02:29.167851Z",
     "iopub.status.idle": "2022-07-10T21:02:29.847350Z",
     "shell.execute_reply": "2022-07-10T21:02:29.846851Z",
     "shell.execute_reply.started": "2022-07-10T21:02:29.168349Z"
    },
    "tags": []
   },
   "outputs": [],
   "source": [
    "# Loading Data\n",
    "data_train = np.load('data_train.npy')\n",
    "labels_train = np.load('labels_train.npy')\n",
    "\n",
    "labels_names = ['Stop','Yield','Red Light','Green Light','Roundabout','Right Turn Only',\n",
    "                'Do Not Enter','Crosswalk','Handicap Parking','No Parking']"
   ]
  },
  {
   "cell_type": "code",
   "execution_count": 3,
   "id": "da0b4815-3740-41ae-bc7e-285b747ab11e",
   "metadata": {
    "execution": {
     "iopub.execute_input": "2022-07-10T21:02:29.848853Z",
     "iopub.status.busy": "2022-07-10T21:02:29.848353Z",
     "iopub.status.idle": "2022-07-10T21:02:31.133852Z",
     "shell.execute_reply": "2022-07-10T21:02:31.133349Z",
     "shell.execute_reply.started": "2022-07-10T21:02:29.848853Z"
    },
    "tags": []
   },
   "outputs": [
    {
     "name": "stdout",
     "output_type": "stream",
     "text": [
      "(4336, 3, 90000) (1859, 3, 90000) (4336,) (1859,)\n",
      "(4336, 270000) (1859, 270000) (4336,) (1859,)\n"
     ]
    }
   ],
   "source": [
    "# Pre process\n",
    "# reshape data\n",
    "reshaped_data_ar = data_train.reshape((90000, 3, 6195)).T\n",
    "\n",
    "# Data Split\n",
    "x = reshaped_data_ar\n",
    "t = labels_train\n",
    "\n",
    "x_train, x_val, t_train, t_val = train_test_split(x,t,test_size=0.3)\n",
    "x_train1, x_val1, t_train1, t_val1 = train_test_split(data_train.T,labels_train,test_size=0.3)\n",
    "\n",
    "print(x_train.shape, x_val.shape, t_train.shape, t_val.shape)\n",
    "print(x_train1.shape, x_val1.shape, t_train1.shape, t_val1.shape)"
   ]
  },
  {
   "cell_type": "code",
   "execution_count": 4,
   "id": "57b30e9a-1f34-4ac5-8698-c9bca05f5f7a",
   "metadata": {
    "execution": {
     "iopub.execute_input": "2022-07-10T21:02:31.135351Z",
     "iopub.status.busy": "2022-07-10T21:02:31.135351Z",
     "iopub.status.idle": "2022-07-10T21:03:05.389351Z",
     "shell.execute_reply": "2022-07-10T21:03:05.387353Z",
     "shell.execute_reply.started": "2022-07-10T21:02:31.135351Z"
    },
    "tags": []
   },
   "outputs": [
    {
     "data": {
      "text/plain": [
       "0.49166218396987627"
      ]
     },
     "execution_count": 4,
     "metadata": {},
     "output_type": "execute_result"
    }
   ],
   "source": [
    "clf = RandomForestClassifier(max_depth=2, random_state=0)\n",
    "clf.fit(x_train1, t_train1)\n",
    "clf.score(x_val1, t_val1)"
   ]
  },
  {
   "cell_type": "markdown",
   "id": "a5c199af-0b88-4b5f-820a-9291d69125d4",
   "metadata": {},
   "source": [
    "## Dimensionality reduction and feature selection"
   ]
  },
  {
   "cell_type": "code",
   "execution_count": 5,
   "id": "eb066895-70d5-49e7-9c05-125bcd900883",
   "metadata": {
    "execution": {
     "iopub.execute_input": "2022-07-10T21:03:05.390854Z",
     "iopub.status.busy": "2022-07-10T21:03:05.390350Z",
     "iopub.status.idle": "2022-07-10T21:04:07.202350Z",
     "shell.execute_reply": "2022-07-10T21:04:07.200849Z",
     "shell.execute_reply.started": "2022-07-10T21:03:05.390854Z"
    },
    "tags": []
   },
   "outputs": [
    {
     "data": {
      "text/plain": [
       "0.49166218396987627"
      ]
     },
     "execution_count": 5,
     "metadata": {},
     "output_type": "execute_result"
    }
   ],
   "source": [
    "min_max_scaler = preprocessing.MinMaxScaler()\n",
    "x_train1 = min_max_scaler.fit_transform(x_train1)\n",
    "x_val1 = min_max_scaler.fit_transform(x_val1)\n",
    "\n",
    "clf = RandomForestClassifier(max_depth=2, random_state=0)\n",
    "clf.fit(x_train1, t_train1)\n",
    "clf.score(x_val1, t_val1)"
   ]
  },
  {
   "cell_type": "code",
   "execution_count": null,
   "id": "0dfcdc0d-113d-48e0-bd39-fd92e208f123",
   "metadata": {},
   "outputs": [],
   "source": []
  },
  {
   "cell_type": "code",
   "execution_count": null,
   "id": "1921f1db-2d8b-4920-a2d8-0908752bb57e",
   "metadata": {},
   "outputs": [],
   "source": []
  }
 ],
 "metadata": {
  "kernelspec": {
   "display_name": "Python 3 (ipykernel)",
   "language": "python",
   "name": "python3"
  },
  "language_info": {
   "codemirror_mode": {
    "name": "ipython",
    "version": 3
   },
   "file_extension": ".py",
   "mimetype": "text/x-python",
   "name": "python",
   "nbconvert_exporter": "python",
   "pygments_lexer": "ipython3",
   "version": "3.10.4"
  }
 },
 "nbformat": 4,
 "nbformat_minor": 5
}
