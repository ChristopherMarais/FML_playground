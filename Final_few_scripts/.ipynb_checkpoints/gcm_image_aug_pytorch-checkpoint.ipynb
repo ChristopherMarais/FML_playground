{
 "cells": [
  {
   "cell_type": "code",
   "execution_count": 1,
   "id": "674ace41-aec8-4ace-8231-09ae65619060",
   "metadata": {
    "execution": {
     "iopub.execute_input": "2022-07-31T15:12:16.927643Z",
     "iopub.status.busy": "2022-07-31T15:12:16.927142Z",
     "iopub.status.idle": "2022-07-31T15:12:20.275131Z",
     "shell.execute_reply": "2022-07-31T15:12:20.274132Z",
     "shell.execute_reply.started": "2022-07-31T15:12:16.927643Z"
    },
    "tags": []
   },
   "outputs": [
    {
     "data": {
      "text/plain": [
       "<matplotlib.pyplot._IonContext at 0x24b0cc6a950>"
      ]
     },
     "execution_count": 1,
     "metadata": {},
     "output_type": "execute_result"
    }
   ],
   "source": [
    "from __future__ import print_function, division\n",
    "\n",
    "import torch\n",
    "import torch.nn as nn\n",
    "import torch.optim as optim\n",
    "from torch.optim import lr_scheduler\n",
    "import torch.backends.cudnn as cudnn\n",
    "from torch.utils.data import TensorDataset, DataLoader\n",
    "import numpy as np\n",
    "import torchvision\n",
    "from torchvision import datasets, models, transforms\n",
    "import matplotlib.pyplot as plt\n",
    "import time\n",
    "import os\n",
    "import copy\n",
    "import pandas as pd\n",
    "import seaborn as sn\n",
    "from sklearn.model_selection import train_test_split, KFold\n",
    "from sklearn.metrics import confusion_matrix, multilabel_confusion_matrix, accuracy_score, f1_score\n",
    "cudnn.benchmark = True\n",
    "plt.ion()   # interactive mode"
   ]
  },
  {
   "cell_type": "code",
   "execution_count": 2,
   "id": "364c10c9-bee2-4b7d-8985-7ba9b77344a3",
   "metadata": {
    "execution": {
     "iopub.execute_input": "2022-07-31T15:12:20.277132Z",
     "iopub.status.busy": "2022-07-31T15:12:20.276631Z",
     "iopub.status.idle": "2022-07-31T15:12:20.290130Z",
     "shell.execute_reply": "2022-07-31T15:12:20.289631Z",
     "shell.execute_reply.started": "2022-07-31T15:12:20.277132Z"
    },
    "tags": []
   },
   "outputs": [
    {
     "name": "stdout",
     "output_type": "stream",
     "text": [
      "GPU:  NVIDIA GeForce RTX 3060\n",
      "CPU cores:  16\n",
      "Working directory:  C:\\Users\\GCM\\Desktop\\GIT_REPOS\\FML_playground\\Final_few_scripts\n",
      "11:12:20\n"
     ]
    }
   ],
   "source": [
    "# use GPU when available\n",
    "use_cuda = torch.cuda.is_available()\n",
    "device = torch.device(\"cuda\" if use_cuda else \"cpu\")\n",
    "# Print GPU name\n",
    "print('GPU: ', torch.cuda.get_device_name(device=device))\n",
    "#number of usable CPU cores\n",
    "core_count = os.cpu_count() #len(os.sched_getaffinity(0)) for server/linux system\n",
    "print('CPU cores: ', core_count)\n",
    "# current working directory\n",
    "wd = os.getcwd()\n",
    "print('Working directory: ', wd)\n",
    "\n",
    "# start time\n",
    "t = time.localtime()\n",
    "current_time = time.strftime(\"%H:%M:%S\", t)\n",
    "print(current_time)"
   ]
  },
  {
   "cell_type": "code",
   "execution_count": null,
   "id": "a94716e8-a580-4656-97ac-f087a3c3d4c6",
   "metadata": {
    "execution": {
     "iopub.execute_input": "2022-07-31T15:12:20.291631Z",
     "iopub.status.busy": "2022-07-31T15:12:20.291133Z"
    },
    "tags": []
   },
   "outputs": [],
   "source": [
    "# Loading Data\n",
    "data = np.load(wd+'/nodup_data.npy')\n",
    "labels = np.load(wd+'/nodup_labels.npy')\n",
    "\n",
    "# reshape data\n",
    "reshaped_data = data.reshape((300,300,3,data.shape[1]))\n",
    "moveaxis_data = np.moveaxis(reshaped_data, source=[0, 1, 2, 3], destination=[2, 3, 1, 0])\n",
    "labels = np.array(labels,dtype=int)\n",
    "\n",
    "# label names\n",
    "class_names = ['Stop','Yield','Red Light','Green Light','Roundabout','Right Turn Only',\n",
    "                'Do Not Enter','Crosswalk','Handicap Parking','No Parking']\n",
    "\n",
    "# turn into tensors\n",
    "# # and scale data\n",
    "# to_tensor = transforms.ToTensor()\n",
    "# to_tensor(reshaped_data[:,:,:,0])\n",
    "data_te = torch.Tensor(moveaxis_data)\n",
    "labels_te = torch.Tensor(labels)\n",
    "\n",
    "# create additional images\n",
    "\n",
    "# normalize parameters\n",
    "stds = reshaped_data.std(axis=(0,1,3))\n",
    "means = reshaped_data.mean(axis=(0,1,3))\n",
    "normalize = torch.nn.Sequential(transforms.Normalize(means, stds)) # in shape of data_te\n"
   ]
  },
  {
   "cell_type": "code",
   "execution_count": null,
   "id": "28429c33-cdbc-4bfb-9a48-aedf4a2c28ef",
   "metadata": {
    "tags": []
   },
   "outputs": [],
   "source": [
    "# transforms.ToTensor()\n",
    "\n",
    "# transforms.functional.adjust_hue()\n",
    "# transforms.functional.adjust_brightness()\n",
    "# transforms.functional.adjust_contrast()\n",
    "# transforms.functional.adjust_gamma()\n",
    "# transforms.functional.adjust_saturation()\n",
    "# transforms.functional.adjust_sharpness()\n",
    "# transforms.functional.gaussian_blur()\n",
    "# transforms.functional.hflip()\n",
    "# transforms.functional.vflip()\n",
    "# transforms.functional.rotate()\n",
    "\n",
    "# transforms.functional.perspective()"
   ]
  },
  {
   "cell_type": "code",
   "execution_count": null,
   "id": "9103ffe2-2fd3-4850-9541-9d36aefaa205",
   "metadata": {
    "tags": []
   },
   "outputs": [],
   "source": [
    "# plt.imshow(torch.moveaxis(test_0, (0,1,2), (2,0,1)))"
   ]
  },
  {
   "cell_type": "code",
   "execution_count": null,
   "id": "c4bfa11f-1f3b-4ed2-9460-a0732928132d",
   "metadata": {
    "tags": []
   },
   "outputs": [],
   "source": [
    "data_transforms = {\n",
    "    'train': transforms.Compose([\n",
    "        transforms.ToTensor(),\n",
    "        transforms.RandomHorizontalFlip(),\n",
    "        transforms.RandomVerticalFlip(),\n",
    "        transforms.ColorJitter(brightness=(0.75,1.25), contrast=(0,2), saturation=(0,2), hue=(-0.5,0.5)),\n",
    "        transforms.GaussianBlur(kernel_size=(5, 9), sigma=(0.1, 5)),\n",
    "        transforms.RandomPerspective(),\n",
    "        transforms.RandomRotation(degrees=(0, 360)),\n",
    "        transforms.RandomAffine(degrees=(0, 360), translate=(0.1, 0.3), scale=(0.5, 0.75), shear=(0, 0.2, 0, 0.2)),\n",
    "        transforms.RandomAdjustSharpness(sharpness_factor=2),\n",
    "        transforms.RandomEqualize(),\n",
    "        transforms.Normalize(means, stds)\n",
    "    ]),\n",
    "    'val': transforms.Compose([\n",
    "        transforms.ToTensor(),\n",
    "        transforms.Normalize(means, stds)\n",
    "    ]),\n",
    "}\n",
    "\n",
    "image_datasets = {x: datasets.ImageFolder(os.path.join(data_dir, x),\n",
    "                                          data_transforms[x])\n",
    "                  for x in ['train', 'val']}\n",
    "dataloaders = {x: torch.utils.data.DataLoader(image_datasets[x], batch_size=4,\n",
    "                                             shuffle=True, num_workers=4)\n",
    "              for x in ['train', 'val']}"
   ]
  },
  {
   "cell_type": "code",
   "execution_count": null,
   "id": "13f71425-b403-47e5-a0b7-bcd2a4a9c578",
   "metadata": {},
   "outputs": [],
   "source": []
  }
 ],
 "metadata": {
  "kernelspec": {
   "display_name": "Python 3 (ipykernel)",
   "language": "python",
   "name": "python3"
  },
  "language_info": {
   "codemirror_mode": {
    "name": "ipython",
    "version": 3
   },
   "file_extension": ".py",
   "mimetype": "text/x-python",
   "name": "python",
   "nbconvert_exporter": "python",
   "pygments_lexer": "ipython3",
   "version": "3.10.4"
  }
 },
 "nbformat": 4,
 "nbformat_minor": 5
}
