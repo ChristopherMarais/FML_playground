{
 "cells": [
  {
   "cell_type": "code",
   "execution_count": 1,
   "id": "7b0f4e3e-6b3a-4099-a270-dd44a63f2c4e",
   "metadata": {
    "execution": {
     "iopub.status.idle": "2022-07-28T15:18:48.558184Z",
     "shell.execute_reply": "2022-07-28T15:18:48.556224Z",
     "shell.execute_reply.started": "2022-07-28T15:18:45.938838Z"
    },
    "tags": []
   },
   "outputs": [],
   "source": [
    "import os\n",
    "import torch\n",
    "from torch.utils.data import TensorDataset, DataLoader\n",
    "import torchvision\n",
    "import numpy as np\n",
    "import pandas as pd\n",
    "\n",
    "import matplotlib.pyplot as plt"
   ]
  },
  {
   "cell_type": "markdown",
   "id": "38cf7273-a47d-4201-b69d-a68771860f52",
   "metadata": {},
   "source": [
    "**The test numpy files and the model files should be in the same directory as this notebook.**"
   ]
  },
  {
   "cell_type": "code",
   "execution_count": 2,
   "id": "de4e24f4-e63d-49fb-a710-0c9216e69145",
   "metadata": {
    "execution": {
     "iopub.execute_input": "2022-07-28T15:18:48.560737Z",
     "iopub.status.busy": "2022-07-28T15:18:48.560307Z",
     "iopub.status.idle": "2022-07-28T15:18:53.018221Z",
     "shell.execute_reply": "2022-07-28T15:18:53.017640Z",
     "shell.execute_reply.started": "2022-07-28T15:18:48.560719Z"
    },
    "tags": []
   },
   "outputs": [
    {
     "name": "stdout",
     "output_type": "stream",
     "text": [
      "GPU:  NVIDIA A100-SXM4-80GB\n",
      "CPU cores:  2\n",
      "Working directory:  /blue/eee4773/gmarais/Transfer_learning\n",
      "Number of known classes:  10\n",
      "Number of images:  6130\n"
     ]
    }
   ],
   "source": [
    "# Assign and describe resources\n",
    "use_cuda = torch.cuda.is_available()\n",
    "device = torch.device(\"cuda\" if use_cuda else \"cpu\")\n",
    "print('GPU: ', torch.cuda.get_device_name(device=device))\n",
    "core_count = len(os.sched_getaffinity(0))\n",
    "print('CPU cores: ', core_count)\n",
    "\n",
    "# current working directory\n",
    "wd = os.getcwd()\n",
    "print('Working directory: ', wd)\n",
    "\n",
    "# Loading Data\n",
    "labels_train = np.load(wd+'/nodup_labels.npy')\n",
    "data_train = np.load(wd+'/nodup_data.npy')\n",
    "\n",
    "# scale and reshape data\n",
    "reshaped_data = data_train.reshape((300,300,3,data_train.shape[1]))\n",
    "reshaped_data = np.moveaxis(reshaped_data, \n",
    "                            source=[0, 1, 2, 3], \n",
    "                            destination=[2, 3, 1, 0])\n",
    "\n",
    "x_te = torch.Tensor(reshaped_data)\n",
    "labels_train = np.array(labels_train,dtype=int)\n",
    "t_te = torch.Tensor(labels_train)\n",
    "max_val = x_te.max()\n",
    "if max_val == 255:\n",
    "    x_te = x_te/255\n",
    "    \n",
    "# Prepare data for pytorch\n",
    "image_dataset = TensorDataset(x_te,t_te)\n",
    "dataloader = torch.utils.data.DataLoader(image_dataset, \n",
    "                                          batch_size=1,\n",
    "                                          shuffle=True, \n",
    "                                          num_workers=core_count)\n",
    "\n",
    "# Text labels\n",
    "class_names = ['Stop','Yield','Red Light','Green Light','Roundabout','Right Turn Only',\n",
    "                'Do Not Enter','Crosswalk','Handicap Parking','No Parking']\n",
    "\n",
    "# Data specifications\n",
    "dataset_size = len(image_dataset)\n",
    "class_num = len(class_names)\n",
    "\n",
    "print('Number of known classes: ', class_num)\n",
    "print('Number of images: ', dataset_size)"
   ]
  },
  {
   "cell_type": "code",
   "execution_count": null,
   "id": "9b652068-0e3e-401b-a30e-9295d7e216ab",
   "metadata": {
    "execution": {
     "iopub.status.busy": "2022-07-28T15:20:31.082200Z",
     "iopub.status.idle": "2022-07-28T15:20:31.082372Z",
     "shell.execute_reply": "2022-07-28T15:20:31.082290Z",
     "shell.execute_reply.started": "2022-07-28T15:20:31.082282Z"
    }
   },
   "outputs": [],
   "source": [
    "# make testing statistics\n",
    "    # ROC curve\n",
    "    # confusion matrix\n",
    "    # class accuracy"
   ]
  },
  {
   "cell_type": "code",
   "execution_count": null,
   "id": "a2fe8f3c-b9e2-43f3-8b88-8ada293db09e",
   "metadata": {
    "execution": {
     "iopub.status.busy": "2022-07-28T15:20:31.082734Z",
     "iopub.status.idle": "2022-07-28T15:20:31.082915Z",
     "shell.execute_reply": "2022-07-28T15:20:31.082824Z",
     "shell.execute_reply.started": "2022-07-28T15:20:31.082816Z"
    }
   },
   "outputs": [],
   "source": [
    "# Import model structure and define number of classes\n",
    "class_num = 10\n",
    "model = torchvision.models.efficientnet_v2_l(weights='EfficientNet_V2_L_Weights.IMAGENET1K_V1')\n",
    "num_ftrs = model.classifier[1].in_features\n",
    "model.classifier = torch.nn.Linear(num_ftrs, class_num)"
   ]
  },
  {
   "cell_type": "code",
   "execution_count": null,
   "id": "9b1dddf4-9aad-43ab-8db1-43c5036019b1",
   "metadata": {
    "execution": {
     "iopub.status.busy": "2022-07-28T15:20:31.083230Z",
     "iopub.status.idle": "2022-07-28T15:20:31.083396Z",
     "shell.execute_reply": "2022-07-28T15:20:31.083316Z",
     "shell.execute_reply.started": "2022-07-28T15:20:31.083308Z"
    },
    "tags": []
   },
   "outputs": [],
   "source": [
    "model.load_state_dict(torch.load(wd+'/best_model_state.pt'))\n",
    "model.to(device)\n",
    "model.eval()\n",
    "model.train(mode=False)"
   ]
  },
  {
   "cell_type": "code",
   "execution_count": null,
   "id": "630e6c55-4100-49d0-a696-d3872932ec4c",
   "metadata": {
    "execution": {
     "iopub.status.busy": "2022-07-28T15:20:31.083708Z",
     "iopub.status.idle": "2022-07-28T15:20:31.083888Z",
     "shell.execute_reply": "2022-07-28T15:20:31.083797Z",
     "shell.execute_reply.started": "2022-07-28T15:20:31.083788Z"
    }
   },
   "outputs": [],
   "source": [
    "with torch.no_grad():\n",
    "    for i, (inputs, labels) in enumerate(dataloader):\n",
    "        inputs = inputs.to(device)\n",
    "        labels = labels.to(device)\n",
    "        labels = labels.to(int)\n",
    "        \n",
    "        outputs = model(inputs)\n",
    "        probabilities = torch.nn.functional.softmax(outputs, dim=1)\n",
    "        preds = (probabilities >= 0.0009)[0].nonzero()#.cpu().flatten().tolist()\n",
    "        print(outputs)\n",
    "        print(probabilities)\n",
    "        print(preds, '\\n\\n')"
   ]
  },
  {
   "cell_type": "code",
   "execution_count": null,
   "id": "1989c7a2-bc4f-44fd-beb8-5571479346fe",
   "metadata": {
    "execution": {
     "iopub.status.busy": "2022-07-28T15:20:31.084203Z",
     "iopub.status.idle": "2022-07-28T15:20:31.084366Z",
     "shell.execute_reply": "2022-07-28T15:20:31.084287Z",
     "shell.execute_reply.started": "2022-07-28T15:20:31.084279Z"
    },
    "tags": []
   },
   "outputs": [],
   "source": [
    "# apply model to data \n",
    "# calculate accuracy metrics for model application (make sure accuracies are reliable)\n",
    "\n",
    "# use softmax to give probs  (maybe necessary in training)\n",
    "# use threshold to apply non class"
   ]
  }
 ],
 "metadata": {
  "kernelspec": {
   "display_name": "FML_a100",
   "language": "python",
   "name": "fml_a100"
  },
  "language_info": {
   "codemirror_mode": {
    "name": "ipython",
    "version": 3
   },
   "file_extension": ".py",
   "mimetype": "text/x-python",
   "name": "python",
   "nbconvert_exporter": "python",
   "pygments_lexer": "ipython3",
   "version": "3.9.13"
  }
 },
 "nbformat": 4,
 "nbformat_minor": 5
}
