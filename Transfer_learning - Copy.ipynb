{
 "cells": [
  {
   "cell_type": "code",
   "execution_count": 1,
   "id": "37924a57-d605-4f8f-b7e5-b81c8b55439a",
   "metadata": {
    "tags": []
   },
   "outputs": [
    {
     "name": "stderr",
     "output_type": "stream",
     "text": [
      "/home/gmarais/.conda/envs/FML/lib/python3.9/site-packages/torchvision/io/image.py:13: UserWarning: Failed to load image Python extension: /home/gmarais/.conda/envs/FML/lib/python3.9/site-packages/torchvision/image.so: undefined symbol: _ZN3c105ErrorC2ENS_14SourceLocationESs\n",
      "  warn(f\"Failed to load image Python extension: {e}\")\n"
     ]
    },
    {
     "data": {
      "text/plain": [
       "<matplotlib.pyplot._IonContext at 0x2b523d8d0640>"
      ]
     },
     "execution_count": 1,
     "metadata": {},
     "output_type": "execute_result"
    }
   ],
   "source": [
    "from __future__ import print_function, division\n",
    "\n",
    "import torch\n",
    "import torch.nn as nn\n",
    "import torch.optim as optim\n",
    "from torch.optim import lr_scheduler\n",
    "import torch.backends.cudnn as cudnn\n",
    "from torch.utils.data import TensorDataset, DataLoader\n",
    "import numpy as np\n",
    "import torchvision\n",
    "from torchvision import datasets, models, transforms\n",
    "import matplotlib.pyplot as plt\n",
    "import time\n",
    "import os\n",
    "import copy\n",
    "import pandas as pd\n",
    "import seaborn as sn\n",
    "from sklearn.model_selection import train_test_split\n",
    "cudnn.benchmark = True\n",
    "plt.ion()   # interactive mode"
   ]
  },
  {
   "cell_type": "code",
   "execution_count": 2,
   "id": "c2ae32e2-b1bd-4585-b50d-7709a465b366",
   "metadata": {
    "tags": []
   },
   "outputs": [
    {
     "name": "stdout",
     "output_type": "stream",
     "text": [
      "GPU:  NVIDIA A100-SXM4-80GB\n",
      "CPU cores:  2\n"
     ]
    },
    {
     "name": "stderr",
     "output_type": "stream",
     "text": [
      "/home/gmarais/.conda/envs/FML/lib/python3.9/site-packages/torch/cuda/__init__.py:146: UserWarning: \n",
      "NVIDIA A100-SXM4-80GB with CUDA capability sm_80 is not compatible with the current PyTorch installation.\n",
      "The current PyTorch install supports CUDA capabilities sm_35 sm_50 sm_60 sm_61 sm_70 sm_75 compute_75.\n",
      "If you want to use the NVIDIA A100-SXM4-80GB GPU with PyTorch, please check the instructions at https://pytorch.org/get-started/locally/\n",
      "\n",
      "  warnings.warn(incompatible_device_warn.format(device_name, capability, \" \".join(arch_list), device_name))\n"
     ]
    }
   ],
   "source": [
    "# use GPU when available\n",
    "use_cuda = torch.cuda.is_available()\n",
    "device = torch.device(\"cuda\" if use_cuda else \"cpu\")\n",
    "\n",
    "# Print GPU name\n",
    "print('GPU: ', torch.cuda.get_device_name(device=device))\n",
    "\n",
    "#number of usable CPU cores\n",
    "core_count = len(os.sched_getaffinity(0))\n",
    "print('CPU cores: ', core_count)\n",
    "\n",
    "# current working directory\n",
    "wd = os.getcwd()"
   ]
  },
  {
   "cell_type": "code",
   "execution_count": 3,
   "id": "49c05594-9ac6-4dcb-a324-0c1ba13fd862",
   "metadata": {
    "tags": []
   },
   "outputs": [],
   "source": [
    "# # Data augmentation and normalization for training\n",
    "# # Just normalization for validation\n",
    "# data_transforms = {\n",
    "#     'train': transforms.Compose([\n",
    "#         transforms.RandomResizedCrop(224),\n",
    "#         transforms.RandomHorizontalFlip(),\n",
    "#         transforms.ToTensor(),\n",
    "#         transforms.Normalize([0.485, 0.456, 0.406], [0.229, 0.224, 0.225])\n",
    "#     ]),\n",
    "#     'val': transforms.Compose([\n",
    "#         transforms.Resize(256),\n",
    "#         transforms.CenterCrop(224),\n",
    "#         transforms.ToTensor(),\n",
    "#         transforms.Normalize([0.485, 0.456, 0.406], [0.229, 0.224, 0.225])\n",
    "#     ]),\n",
    "# }\n",
    "\n",
    "# data_dir = wd +'/hymenoptera_data'\n",
    "\n",
    "# image_datasets = {x: datasets.ImageFolder(os.path.join(data_dir, x),\n",
    "#                                           data_transforms[x])\n",
    "#                   for x in ['train', 'val']}\n",
    "\n",
    "\n",
    "# dataloaders = {x: torch.utils.data.DataLoader(image_datasets[x], batch_size=4,\n",
    "#                                              shuffle=True, num_workers=core_count)\n",
    "#               for x in ['train', 'val']}\n",
    "\n",
    "\n",
    "# dataset_sizes = {x: len(image_datasets[x]) for x in ['train', 'val']}\n",
    "# class_names = image_datasets['train'].classes\n",
    "# class_num = len(class_names)\n"
   ]
  },
  {
   "cell_type": "code",
   "execution_count": 4,
   "id": "699fe636-3ecc-4da0-8615-f0534e6c297b",
   "metadata": {
    "tags": []
   },
   "outputs": [],
   "source": [
    "#labels\n",
    "labels_names = ['Stop','Yield','Red Light','Green Light','Roundabout','Right Turn Only',\n",
    "                'Do Not Enter','Crosswalk','Handicap Parking','No Parking']\n",
    "\n",
    "# Loading Data\n",
    "data_train = np.load(wd+'/clean_data.npy')\n",
    "reshaped_data = data_train.reshape((300,300,3,data_train.shape[1]))\n",
    "reshaped_data = np.moveaxis(reshaped_data, source=[0, 1, 2, 3], destination=[2, 3, 1, 0])\n",
    "labels_train = np.load(wd+'/clean_labels.npy')\n",
    "labels_train = np.array(labels_train,dtype=int)\n",
    "\n",
    "# split data\n",
    "x_train, x_test, t_train, t_test = train_test_split(reshaped_data, labels_train, test_size=0.7)\n",
    "\n",
    "x_train_te = torch.Tensor(x_train)\n",
    "x_test_te = torch.Tensor(x_test)\n",
    "t_train_te = torch.Tensor(t_train)\n",
    "t_test_te = torch.Tensor(t_test)\n",
    "\n",
    "image_datasets = {'train': TensorDataset(x_train_te,t_train_te),\n",
    "                 'val': TensorDataset(x_test_te,t_test_te)}\n",
    "\n",
    "dataloaders = {x: torch.utils.data.DataLoader(image_datasets[x], batch_size=128,\n",
    "                                             shuffle=True, num_workers=core_count)\n",
    "              for x in ['train', 'val']}\n",
    "\n",
    "dataset_sizes = {x: len(image_datasets[x]) for x in ['train', 'val']}\n",
    "class_names = labels_names\n",
    "class_num = len(class_names)"
   ]
  },
  {
   "cell_type": "code",
   "execution_count": 5,
   "id": "556e4d00-7d33-49ea-8a30-376e19f49c79",
   "metadata": {
    "tags": []
   },
   "outputs": [],
   "source": [
    "# def imshow(inp, title=None):\n",
    "#     \"\"\"Imshow for Tensor.\"\"\"\n",
    "#     inp = inp.numpy().transpose((1, 2, 0))\n",
    "#     mean = np.array([0.485, 0.456, 0.406])\n",
    "#     std = np.array([0.229, 0.224, 0.225])\n",
    "#     inp = std * inp + mean\n",
    "#     inp = np.clip(inp, 0, 1)\n",
    "#     plt.imshow(inp)\n",
    "#     if title is not None:\n",
    "#         plt.title(title)\n",
    "#     plt.pause(0.001)  # pause a bit so that plots are updated\n",
    "\n",
    "\n",
    "# # Get a batch of training data\n",
    "# inputs, classes = next(iter(dataloaders['train']))\n",
    "\n",
    "# # Make a grid from batch\n",
    "# out = torchvision.utils.make_grid(inputs)\n",
    "\n",
    "# imshow(out, title=[class_names[x] for x in classes])"
   ]
  },
  {
   "cell_type": "code",
   "execution_count": 6,
   "id": "181e6fc8-a44a-4440-9e54-0c35823c07dc",
   "metadata": {
    "tags": []
   },
   "outputs": [],
   "source": [
    "def train_model(model, criterion, optimizer, scheduler, num_epochs=25):\n",
    "    since = time.time()\n",
    "\n",
    "    best_model_wts = copy.deepcopy(model.state_dict())\n",
    "    best_acc = 0.0\n",
    "    train_dict = {'train':[[],[]], 'val':[[],[]]}\n",
    "\n",
    "    for epoch in range(num_epochs):\n",
    "        print(f'Epoch {epoch+1}/{num_epochs}')\n",
    "        print('-' * 10)\n",
    "\n",
    "        # Each epoch has a training and validation phase\n",
    "        for phase in ['train', 'val']:\n",
    "            if phase == 'train':\n",
    "                model.train()  # Set model to training mode\n",
    "            else:\n",
    "                model.eval()   # Set model to evaluate mode\n",
    "\n",
    "            running_loss = 0.0\n",
    "            running_corrects = 0\n",
    "\n",
    "            # Iterate over data.\n",
    "            for inputs, labels in dataloaders[phase]:\n",
    "                labels = labels.type(torch.LongTensor) \n",
    "                inputs = inputs.to(device)\n",
    "                labels = labels.to(device)\n",
    "\n",
    "                # zero the parameter gradients\n",
    "                optimizer.zero_grad()\n",
    "\n",
    "                # forward\n",
    "                # track history if only in train\n",
    "                with torch.set_grad_enabled(phase == 'train'):\n",
    "                    outputs = model(inputs)\n",
    "                    _, preds = torch.max(outputs, 1)\n",
    "                    loss = criterion(outputs, labels)\n",
    "\n",
    "                    # backward + optimize only if in training phase\n",
    "                    if phase == 'train':\n",
    "                        loss.backward()\n",
    "                        optimizer.step()\n",
    "\n",
    "                # statistics\n",
    "                running_loss += loss.item() * inputs.size(0)\n",
    "                running_corrects += torch.sum(preds == labels.data)\n",
    "            if phase == 'train':\n",
    "                scheduler.step()\n",
    "\n",
    "            epoch_loss = running_loss / dataset_sizes[phase]\n",
    "            epoch_acc = running_corrects.double() / dataset_sizes[phase]\n",
    "            train_dict[phase][0].append(epoch_loss)\n",
    "            train_dict[phase][1].append(epoch_acc.cpu().item())\n",
    "\n",
    "            print(f'{phase} Loss: {epoch_loss:.4f} Acc: {epoch_acc:.4f}')\n",
    "\n",
    "            # deep copy the model\n",
    "            if phase == 'val' and epoch_acc > best_acc:\n",
    "                best_acc = epoch_acc\n",
    "                best_model_wts = copy.deepcopy(model.state_dict())\n",
    "\n",
    "        print()\n",
    "\n",
    "    time_elapsed = time.time() - since\n",
    "    print(f'Training complete in {time_elapsed // 60:.0f}m {time_elapsed % 60:.0f}s')\n",
    "    print(f'Best val Acc: {best_acc:4f}')\n",
    "\n",
    "    # load best model weights\n",
    "    model.load_state_dict(best_model_wts)\n",
    "    return model, train_dict"
   ]
  },
  {
   "cell_type": "code",
   "execution_count": 7,
   "id": "4ee7982b-c9b0-433d-abb3-7a115173c95f",
   "metadata": {
    "tags": []
   },
   "outputs": [],
   "source": [
    "def visualize_model(model, num_images=10):   \n",
    "    \n",
    "    was_training = model.training\n",
    "    model.eval()\n",
    "    images_so_far = 0\n",
    "    fig = plt.figure(figsize=(20,20))\n",
    "\n",
    "    with torch.no_grad():\n",
    "        for i, (inputs, labels) in enumerate(dataloaders['val']):\n",
    "            inputs = inputs.to(device)\n",
    "            labels = labels.to(device)\n",
    "            labels = labels.to(int)\n",
    "\n",
    "            outputs = model(inputs)\n",
    "            _, preds = torch.max(outputs, 1)\n",
    "            for j in range(inputs.size()[0]):\n",
    "                images_so_far += 1\n",
    "                ax = plt.subplot(num_images//2+1, num_images//2+1, images_so_far)\n",
    "                ax.axis('off')\n",
    "                ax.set_title(f'Predicted: {class_names[preds[j]]} \\n True: {class_names[labels[j]]}')\n",
    "                plt.imshow(np.moveaxis(np.array(inputs.cpu().data[j], dtype=int), source=[0], destination=[2]))\n",
    "\n",
    "                if images_so_far == num_images:\n",
    "                    model.train(mode=was_training)\n",
    "                    return\n",
    "        model.train(mode=was_training)"
   ]
  },
  {
   "cell_type": "code",
   "execution_count": 8,
   "id": "fa4e8736-df35-455f-9ce4-6e3bbbe24523",
   "metadata": {},
   "outputs": [],
   "source": [
    "def known_predict(model, dataloader=dataloaders['val']):   \n",
    "    \n",
    "    was_training = model.training\n",
    "    model.eval()\n",
    "    \n",
    "    labels_lst = []\n",
    "    preds_lst = []\n",
    "    with torch.no_grad():\n",
    "        for i, (inputs, labels) in enumerate(dataloader):\n",
    "            inputs = inputs.to(device)\n",
    "            labels = labels.to(device)\n",
    "            labels = labels.to(int)\n",
    "            labels_lst.append(np.array(labels.cpu()))\n",
    "            \n",
    "            outputs = model(inputs)\n",
    "            _, preds = torch.max(outputs, 1)\n",
    "            preds_lst.append(np.array(preds.cpu()))\n",
    "            \n",
    "        model.train(mode=was_training)\n",
    "    preds_ar = np.stack(preds_lst)\n",
    "    labels_ar = np.stack(labels_lst)\n",
    "    return preds_ar, labels_ar"
   ]
  },
  {
   "cell_type": "code",
   "execution_count": 9,
   "id": "e02689eb-e27e-40d6-822e-008febfa1464",
   "metadata": {},
   "outputs": [],
   "source": [
    "# stack all arrays from output into a single lsit of numbers"
   ]
  },
  {
   "cell_type": "code",
   "execution_count": 10,
   "id": "34346205-fa95-4b09-a84b-62caf9d1866d",
   "metadata": {},
   "outputs": [],
   "source": [
    "# a, b = known_predict(model_conv, dataloader=dataloaders['val'])"
   ]
  },
  {
   "cell_type": "code",
   "execution_count": 11,
   "id": "1852bd4c-6199-4b9c-a0c6-0886e2174286",
   "metadata": {},
   "outputs": [],
   "source": [
    "# create unknown apply function\n",
    "# export model"
   ]
  },
  {
   "cell_type": "markdown",
   "id": "e9b0a6a8-7c90-48b7-a9c6-064ba21f8e35",
   "metadata": {},
   "source": [
    "### Finetuning the convnet"
   ]
  },
  {
   "cell_type": "code",
   "execution_count": 12,
   "id": "c57ad8cf-9900-4c89-8a43-81a60b9fa0e6",
   "metadata": {
    "tags": []
   },
   "outputs": [],
   "source": [
    "# model_ft = torchvision.models.efficientnet_v2_l(weights='EfficientNet_V2_L_Weights.IMAGENET1K_V1')\n",
    "# num_ftrs = model_ft.classifier[1].in_features\n",
    "\n",
    "# # Here the size of each output sample is set to 2.\n",
    "# # Alternatively, it can be generalized to nn.Linear(num_ftrs, len(class_names)).\n",
    "# model_ft.fc = nn.Linear(num_ftrs, class_num)\n",
    "\n",
    "# model_ft = model_ft.to(device)\n",
    "\n",
    "# criterion = nn.CrossEntropyLoss()\n",
    "\n",
    "# # Observe that all parameters are being optimized\n",
    "# optimizer_ft = optim.SGD(model_ft.parameters(), lr=0.001, momentum=0.9)\n",
    "\n",
    "# # Decay LR by a factor of 0.1 every 7 epochs\n",
    "# exp_lr_scheduler = lr_scheduler.StepLR(optimizer_ft, step_size=7, gamma=0.1)\n",
    "\n",
    "\n",
    "# model_ft = train_model(model_ft, criterion, optimizer_ft, exp_lr_scheduler,\n",
    "#                        num_epochs=25)\n",
    "\n",
    "# visualize_model(model_ft)\n",
    "\n",
    "# plt.ioff()\n",
    "# plt.show()"
   ]
  },
  {
   "cell_type": "markdown",
   "id": "002d57de-3a17-4c07-bdde-19ff887e8439",
   "metadata": {},
   "source": [
    "### ConvNet as fixed feature extractor"
   ]
  },
  {
   "cell_type": "code",
   "execution_count": null,
   "id": "81bcf051-3aed-4b7a-a6fc-bc9ff64acae5",
   "metadata": {
    "tags": []
   },
   "outputs": [],
   "source": [
    "model_conv = torchvision.models.efficientnet_v2_l(weights='EfficientNet_V2_L_Weights.IMAGENET1K_V1')\n",
    "\n",
    "for param in model_conv.parameters():\n",
    "    param.requires_grad = False\n",
    "\n",
    "# Parameters of newly constructed modules have requires_grad=True by default\n",
    "num_ftrs = model_conv.classifier[1].in_features\n",
    "model_conv.classifier = nn.Linear(num_ftrs, class_num)\n",
    "\n",
    "model_conv = model_conv.to(device)\n",
    "\n",
    "criterion = nn.CrossEntropyLoss()\n",
    "\n",
    "# Observe that only parameters of final layer are being optimized as\n",
    "# opposed to before.\n",
    "# optimizer_conv = optim.SGD(model_conv.classifier.parameters(), lr=0.001, momentum=0.9)\n",
    "optimizer_conv = optim.Adam(model_conv.classifier.parameters(), lr=0.011)\n",
    "\n",
    "\n",
    "# Decay LR by a factor of 0.1 every 7 epochs\n",
    "exp_lr_scheduler = lr_scheduler.StepLR(optimizer_conv, step_size=7, gamma=0.1)"
   ]
  },
  {
   "cell_type": "code",
   "execution_count": null,
   "id": "67f2b234-19f8-4b21-bf72-bd6b4c92d1f7",
   "metadata": {},
   "outputs": [],
   "source": [
    "visualize_model(model_conv)"
   ]
  },
  {
   "cell_type": "code",
   "execution_count": null,
   "id": "af6aa48d-0b50-4f38-bb8c-101625bb5ac8",
   "metadata": {
    "tags": []
   },
   "outputs": [],
   "source": [
    "model_conv, train_dict_fixed = train_model(model_conv, \n",
    "                                           criterion, \n",
    "                                           optimizer_conv, \n",
    "                                           exp_lr_scheduler, \n",
    "                                           num_epochs=10)\n"
   ]
  },
  {
   "cell_type": "code",
   "execution_count": null,
   "id": "4575a824-84b0-4576-b07b-451d0e89fd47",
   "metadata": {},
   "outputs": [],
   "source": [
    "visualize_model(model_conv)"
   ]
  },
  {
   "cell_type": "code",
   "execution_count": null,
   "id": "6a17c23d-6f3b-4b5d-8b92-9beb01630164",
   "metadata": {},
   "outputs": [],
   "source": [
    "df = pd.DataFrame()\n",
    "df['train_loss'] = train_dict_fixed['train'][0]\n",
    "df['val_loss'] = train_dict_fixed['val'][0]\n",
    "df['train_acc'] = train_dict_fixed['train'][1]\n",
    "df['val_acc'] = train_dict_fixed['val'][1]\n",
    "df.to_csv('accuracies.csv')\n",
    "plt.figure(figsize=(16,8))\n",
    "sn.lineplot(data=df[['train_acc', 'val_acc']])\n",
    "plt.show()\n",
    "\n",
    "plt.figure(figsize=(16,8))\n",
    "sn.lineplot(data=df[['train_loss', 'val_loss']])\n",
    "plt.show()"
   ]
  },
  {
   "cell_type": "code",
   "execution_count": null,
   "id": "2146d106-4c04-4948-90b9-07761f3ffa07",
   "metadata": {},
   "outputs": [],
   "source": [
    "plt.savefig('250_epochs.png')"
   ]
  },
  {
   "cell_type": "code",
   "execution_count": null,
   "id": "cca11404-6719-4988-89af-cafd08a69532",
   "metadata": {},
   "outputs": [],
   "source": []
  }
 ],
 "metadata": {
  "kernelspec": {
   "display_name": "FML",
   "language": "python",
   "name": "fml"
  },
  "language_info": {
   "codemirror_mode": {
    "name": "ipython",
    "version": 3
   },
   "file_extension": ".py",
   "mimetype": "text/x-python",
   "name": "python",
   "nbconvert_exporter": "python",
   "pygments_lexer": "ipython3",
   "version": "3.9.13"
  }
 },
 "nbformat": 4,
 "nbformat_minor": 5
}
